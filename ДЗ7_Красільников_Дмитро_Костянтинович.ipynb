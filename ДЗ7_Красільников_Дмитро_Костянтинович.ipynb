{
  "nbformat": 4,
  "nbformat_minor": 0,
  "metadata": {
    "colab": {
      "provenance": [],
      "authorship_tag": "ABX9TyNaF3lLCclUDD2vjL77nwqn",
      "include_colab_link": true
    },
    "kernelspec": {
      "name": "python3",
      "display_name": "Python 3"
    },
    "language_info": {
      "name": "python"
    }
  },
  "cells": [
    {
      "cell_type": "markdown",
      "metadata": {
        "id": "view-in-github",
        "colab_type": "text"
      },
      "source": [
        "<a href=\"https://colab.research.google.com/github/DimasWerito/goit-algo-hw-07/blob/main/%D0%94%D0%977_%D0%9A%D1%80%D0%B0%D1%81%D1%96%D0%BB%D1%8C%D0%BD%D0%B8%D0%BA%D0%BE%D0%B2_%D0%94%D0%BC%D0%B8%D1%82%D1%80%D0%BE_%D0%9A%D0%BE%D1%81%D1%82%D1%8F%D0%BD%D1%82%D0%B8%D0%BD%D0%BE%D0%B2%D0%B8%D1%87.ipynb\" target=\"_parent\"><img src=\"https://colab.research.google.com/assets/colab-badge.svg\" alt=\"Open In Colab\"/></a>"
      ]
    },
    {
      "cell_type": "markdown",
      "source": [
        "# Завдання 1"
      ],
      "metadata": {
        "id": "L_Xz7v1zhjEk"
      }
    },
    {
      "cell_type": "code",
      "execution_count": 1,
      "metadata": {
        "colab": {
          "base_uri": "https://localhost:8080/"
        },
        "id": "Z-M3U9V8guLJ",
        "outputId": "a3499348-e712-4579-9876-8627eee3b082"
      },
      "outputs": [
        {
          "output_type": "stream",
          "name": "stdout",
          "text": [
            "Найбільше значення у дереві: 22\n"
          ]
        }
      ],
      "source": [
        "class AVLNode:\n",
        "    def __init__(self, key):\n",
        "        self.left = None\n",
        "        self.right = None\n",
        "        self.val = key\n",
        "        self.height = 1\n",
        "\n",
        "class AVLTree:\n",
        "    def insert(self, root, key):\n",
        "        if not root:\n",
        "            return AVLNode(key)\n",
        "        elif key < root.val:\n",
        "            root.left = self.insert(root.left, key)\n",
        "        else:\n",
        "            root.right = self.insert(root.right, key)\n",
        "\n",
        "        root.height = 1 + max(self.get_height(root.left), self.get_height(root.right))\n",
        "\n",
        "        balance = self.get_balance(root)\n",
        "\n",
        "        # Лівий лівий випадок\n",
        "        if balance > 1 and key < root.left.val:\n",
        "            return self.right_rotate(root)\n",
        "\n",
        "        # Правий правий випадок\n",
        "        if balance < -1 and key > root.right.val:\n",
        "            return self.left_rotate(root)\n",
        "\n",
        "        # Лівий правий випадок\n",
        "        if balance > 1 and key > root.left.val:\n",
        "            root.left = self.left_rotate(root.left)\n",
        "            return self.right_rotate(root)\n",
        "\n",
        "        # Правий лівий випадок\n",
        "        if balance < -1 and key < root.right.val:\n",
        "            root.right = self.right_rotate(root.right)\n",
        "            return self.left_rotate(root)\n",
        "\n",
        "        return root\n",
        "\n",
        "    def left_rotate(self, z):\n",
        "        y = z.right\n",
        "        T2 = y.left\n",
        "        y.left = z\n",
        "        z.right = T2\n",
        "        z.height = 1 + max(self.get_height(z.left), self.get_height(z.right))\n",
        "        y.height = 1 + max(self.get_height(y.left), self.get_height(y.right))\n",
        "        return y\n",
        "\n",
        "    def right_rotate(self, z):\n",
        "        y = z.left\n",
        "        T3 = y.right\n",
        "        y.right = z\n",
        "        z.left = T3\n",
        "        z.height = 1 + max(self.get_height(z.left), self.get_height(z.right))\n",
        "        y.height = 1 + max(self.get_height(y.left), self.get_height(y.right))\n",
        "        return y\n",
        "\n",
        "    def get_height(self, root):\n",
        "        if not root:\n",
        "            return 0\n",
        "        return root.height\n",
        "\n",
        "    def get_balance(self, root):\n",
        "        if not root:\n",
        "            return 0\n",
        "        return self.get_height(root.left) - self.get_height(root.right)\n",
        "\n",
        "    def find_max(self, root):\n",
        "        current_node = root\n",
        "        while current_node.right is not None:\n",
        "            current_node = current_node.right\n",
        "        return current_node.val\n",
        "\n",
        "# Приклад використання\n",
        "avl = AVLTree()\n",
        "root = None\n",
        "values = [20, 8, 22, 4, 12, 10, 14]\n",
        "for val in values:\n",
        "    root = avl.insert(root, val)\n",
        "\n",
        "print(\"Найбільше значення у дереві:\", avl.find_max(root))\n"
      ]
    },
    {
      "cell_type": "markdown",
      "source": [
        "# Завдання 2"
      ],
      "metadata": {
        "id": "vWp2GbQijVnj"
      }
    },
    {
      "cell_type": "code",
      "source": [
        "class AVLNode:\n",
        "    def __init__(self, key):\n",
        "        self.left = None\n",
        "        self.right = None\n",
        "        self.val = key\n",
        "        self.height = 1\n",
        "\n",
        "class AVLTree:\n",
        "    def insert(self, root, key):\n",
        "        if not root:\n",
        "            return AVLNode(key)\n",
        "        elif key < root.val:\n",
        "            root.left = self.insert(root.left, key)\n",
        "        else:\n",
        "            root.right = self.insert(root.right, key)\n",
        "\n",
        "        root.height = 1 + max(self.get_height(root.left), self.get_height(root.right))\n",
        "\n",
        "        balance = self.get_balance(root)\n",
        "\n",
        "        # Лівий лівий випадок\n",
        "        if balance > 1 and key < root.left.val:\n",
        "            return self.right_rotate(root)\n",
        "\n",
        "        # Правий правий випадок\n",
        "        if balance < -1 and key > root.right.val:\n",
        "            return self.left_rotate(root)\n",
        "\n",
        "        # Лівий правий випадок\n",
        "        if balance > 1 and key > root.left.val:\n",
        "            root.left = self.left_rotate(root.left)\n",
        "            return self.right_rotate(root)\n",
        "\n",
        "        # Правий лівий випадок\n",
        "        if balance < -1 and key < root.right.val:\n",
        "            root.right = self.right_rotate(root.right)\n",
        "            return self.left_rotate(root)\n",
        "\n",
        "        return root\n",
        "\n",
        "    def left_rotate(self, z):\n",
        "        y = z.right\n",
        "        T2 = y.left\n",
        "        y.left = z\n",
        "        z.right = T2\n",
        "        z.height = 1 + max(self.get_height(z.left), self.get_height(z.right))\n",
        "        y.height = 1 + max(self.get_height(y.left), self.get_height(y.right))\n",
        "        return y\n",
        "\n",
        "    def right_rotate(self, z):\n",
        "        y = z.left\n",
        "        T3 = y.right\n",
        "        y.right = z\n",
        "        z.left = T3\n",
        "        z.height = 1 + max(self.get_height(z.left), self.get_height(z.right))\n",
        "        y.height = 1 + max(self.get_height(y.left), self.get_height(y.right))\n",
        "        return y\n",
        "\n",
        "    def get_height(self, root):\n",
        "        if not root:\n",
        "            return 0\n",
        "        return root.height\n",
        "\n",
        "    def get_balance(self, root):\n",
        "        if not root:\n",
        "            return 0\n",
        "        return self.get_height(root.left) - self.get_height(root.right)\n",
        "\n",
        "    def find_min(self, root):\n",
        "        current_node = root\n",
        "        while current_node.left is not None:\n",
        "            current_node = current_node.left\n",
        "        return current_node.val\n",
        "\n",
        "# Приклад використання\n",
        "avl = AVLTree()\n",
        "root = None\n",
        "values = [20, 8, 22, 4, 12, 10, 14]\n",
        "for val in values:\n",
        "    root = avl.insert(root, val)\n",
        "\n",
        "print(\"Найменше значення у дереві:\", avl.find_min(root))\n"
      ],
      "metadata": {
        "colab": {
          "base_uri": "https://localhost:8080/"
        },
        "id": "Y0FIh1iOkKsN",
        "outputId": "6a00d788-60be-4553-caeb-cb909eb74b9c"
      },
      "execution_count": 2,
      "outputs": [
        {
          "output_type": "stream",
          "name": "stdout",
          "text": [
            "Найменше значення у дереві: 4\n"
          ]
        }
      ]
    },
    {
      "cell_type": "markdown",
      "source": [
        "# Завдання 3"
      ],
      "metadata": {
        "id": "_mJpIoAnkkcF"
      }
    },
    {
      "cell_type": "code",
      "source": [
        "class AVLNode:\n",
        "    def __init__(self, key):\n",
        "        self.left = None\n",
        "        self.right = None\n",
        "        self.val = key\n",
        "        self.height = 1\n",
        "\n",
        "class AVLTree:\n",
        "    def insert(self, root, key):\n",
        "        if not root:\n",
        "            return AVLNode(key)\n",
        "        elif key < root.val:\n",
        "            root.left = self.insert(root.left, key)\n",
        "        else:\n",
        "            root.right = self.insert(root.right, key)\n",
        "\n",
        "        root.height = 1 + max(self.get_height(root.left), self.get_height(root.right))\n",
        "\n",
        "        balance = self.get_balance(root)\n",
        "\n",
        "        # Лівий лівий випадок\n",
        "        if balance > 1 and key < root.left.val:\n",
        "            return self.right_rotate(root)\n",
        "\n",
        "        # Правий правий випадок\n",
        "        if balance < -1 and key > root.right.val:\n",
        "            return self.left_rotate(root)\n",
        "\n",
        "        # Лівий правий випадок\n",
        "        if balance > 1 and key > root.left.val:\n",
        "            root.left = self.left_rotate(root.left)\n",
        "            return self.right_rotate(root)\n",
        "\n",
        "        # Правий лівий випадок\n",
        "        if balance < -1 and key < root.right.val:\n",
        "            root.right = self.right_rotate(root.right)\n",
        "            return self.left_rotate(root)\n",
        "\n",
        "        return root\n",
        "\n",
        "    def left_rotate(self, z):\n",
        "        y = z.right\n",
        "        T2 = y.left\n",
        "        y.left = z\n",
        "        z.right = T2\n",
        "        z.height = 1 + max(self.get_height(z.left), self.get_height(z.right))\n",
        "        y.height = 1 + max(self.get_height(y.left), self.get_height(y.right))\n",
        "        return y\n",
        "\n",
        "    def right_rotate(self, z):\n",
        "        y = z.left\n",
        "        T3 = y.right\n",
        "        y.right = z\n",
        "        z.left = T3\n",
        "        z.height = 1 + max(self.get_height(z.left), self.get_height(z.right))\n",
        "        y.height = 1 + max(self.get_height(y.left), self.get_height(y.right))\n",
        "        return y\n",
        "\n",
        "    def get_height(self, root):\n",
        "        if not root:\n",
        "            return 0\n",
        "        return root.height\n",
        "\n",
        "    def get_balance(self, root):\n",
        "        if not root:\n",
        "            return 0\n",
        "        return self.get_height(root.left) - self.get_height(root.right)\n",
        "\n",
        "    def sum_values(self, root):\n",
        "        if root is None:\n",
        "            return 0\n",
        "        return root.val + self.sum_values(root.left) + self.sum_values(root.right)\n",
        "\n",
        "# Приклад використання\n",
        "avl = AVLTree()\n",
        "root = None\n",
        "values = [20, 8, 22, 4, 12, 10, 14]\n",
        "for val in values:\n",
        "    root = avl.insert(root, val)\n",
        "\n",
        "print(\"Сума всіх значень у дереві:\", avl.sum_values(root))\n"
      ],
      "metadata": {
        "colab": {
          "base_uri": "https://localhost:8080/"
        },
        "id": "W-NJpKYFknwy",
        "outputId": "6c8e3461-ad5b-4d23-f3c9-91a71b6375fc"
      },
      "execution_count": 3,
      "outputs": [
        {
          "output_type": "stream",
          "name": "stdout",
          "text": [
            "Сума всіх значень у дереві: 90\n"
          ]
        }
      ]
    },
    {
      "cell_type": "markdown",
      "source": [
        "# Завдання 4"
      ],
      "metadata": {
        "id": "axX_dffAlL76"
      }
    },
    {
      "cell_type": "code",
      "source": [
        "class Comment:\n",
        "    def __init__(self, text, author):\n",
        "        self.text = text\n",
        "        self.author = author\n",
        "        self.replies = []\n",
        "        self.is_deleted = False\n",
        "\n",
        "    def add_reply(self, reply):\n",
        "        self.replies.append(reply)\n",
        "\n",
        "    def remove_reply(self):\n",
        "        self.text = \"Цей коментар було видалено.\"\n",
        "        self.is_deleted = True\n",
        "\n",
        "    def display(self, indent=0):\n",
        "        print(' ' * indent + f\"{self.author}: {self.text}\")\n",
        "        for reply in self.replies:\n",
        "            reply.display(indent + 4)\n",
        "\n",
        "# Приклад використання\n",
        "root_comment = Comment(\"Яка чудова книга!\", \"Бодя\")\n",
        "reply1 = Comment(\"Книга повне розчарування :(\", \"Андрій\")\n",
        "reply2 = Comment(\"Що в ній чудового?\", \"Марина\")\n",
        "\n",
        "root_comment.add_reply(reply1)\n",
        "root_comment.add_reply(reply2)\n",
        "\n",
        "reply1_1 = Comment(\"Не книжка, а перевели купу паперу ні нащо...\", \"Сергій\")\n",
        "reply1.add_reply(reply1_1)\n",
        "\n",
        "reply1.remove_reply()\n",
        "\n",
        "root_comment.display()\n"
      ],
      "metadata": {
        "colab": {
          "base_uri": "https://localhost:8080/"
        },
        "id": "9eL8FYzLlQlL",
        "outputId": "df526cb8-4d15-40fa-fa8c-3f49bac42cd5"
      },
      "execution_count": 4,
      "outputs": [
        {
          "output_type": "stream",
          "name": "stdout",
          "text": [
            "Бодя: Яка чудова книга!\n",
            "    Андрій: Цей коментар було видалено.\n",
            "        Сергій: Не книжка, а перевели купу паперу ні нащо...\n",
            "    Марина: Що в ній чудового?\n"
          ]
        }
      ]
    }
  ]
}